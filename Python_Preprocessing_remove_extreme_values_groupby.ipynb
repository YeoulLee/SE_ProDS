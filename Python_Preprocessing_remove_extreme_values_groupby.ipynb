{
 "cells": [
  {
   "cell_type": "code",
   "execution_count": 5,
   "id": "64e5142d",
   "metadata": {},
   "outputs": [],
   "source": [
    "import pandas as pd\n",
    "import numpy as np"
   ]
  },
  {
   "cell_type": "code",
   "execution_count": 14,
   "id": "de07f0cd",
   "metadata": {},
   "outputs": [
    {
     "data": {
      "text/html": [
       "<div>\n",
       "<style scoped>\n",
       "    .dataframe tbody tr th:only-of-type {\n",
       "        vertical-align: middle;\n",
       "    }\n",
       "\n",
       "    .dataframe tbody tr th {\n",
       "        vertical-align: top;\n",
       "    }\n",
       "\n",
       "    .dataframe thead th {\n",
       "        text-align: right;\n",
       "    }\n",
       "</style>\n",
       "<table border=\"1\" class=\"dataframe\">\n",
       "  <thead>\n",
       "    <tr style=\"text-align: right;\">\n",
       "      <th></th>\n",
       "      <th>근속년수</th>\n",
       "      <th>연봉</th>\n",
       "    </tr>\n",
       "  </thead>\n",
       "  <tbody>\n",
       "    <tr>\n",
       "      <th>0</th>\n",
       "      <td>1</td>\n",
       "      <td>1200</td>\n",
       "    </tr>\n",
       "    <tr>\n",
       "      <th>1</th>\n",
       "      <td>2</td>\n",
       "      <td>482</td>\n",
       "    </tr>\n",
       "  </tbody>\n",
       "</table>\n",
       "</div>"
      ],
      "text/plain": [
       "   근속년수    연봉\n",
       "0     1  1200\n",
       "1     2   482"
      ]
     },
     "execution_count": 14,
     "metadata": {},
     "output_type": "execute_result"
    }
   ],
   "source": [
    "np.random.seed(123)\n",
    "df = pd.DataFrame(dict(근속년수 = [1, 2, 3] * 10,\n",
    "                       연봉 = np.random.randint(100, 500, size = 30)))\n",
    "df.iloc[0, 1] = 1200\n",
    "df.head(2)"
   ]
  },
  {
   "cell_type": "code",
   "execution_count": 17,
   "id": "eaf34162",
   "metadata": {},
   "outputs": [
    {
     "data": {
      "text/html": [
       "<div>\n",
       "<style scoped>\n",
       "    .dataframe tbody tr th:only-of-type {\n",
       "        vertical-align: middle;\n",
       "    }\n",
       "\n",
       "    .dataframe tbody tr th {\n",
       "        vertical-align: top;\n",
       "    }\n",
       "\n",
       "    .dataframe thead th {\n",
       "        text-align: right;\n",
       "    }\n",
       "</style>\n",
       "<table border=\"1\" class=\"dataframe\">\n",
       "  <thead>\n",
       "    <tr style=\"text-align: right;\">\n",
       "      <th></th>\n",
       "      <th>근속년수</th>\n",
       "      <th>mean</th>\n",
       "      <th>std</th>\n",
       "      <th>out_l</th>\n",
       "      <th>out_u</th>\n",
       "    </tr>\n",
       "  </thead>\n",
       "  <tbody>\n",
       "    <tr>\n",
       "      <th>0</th>\n",
       "      <td>1</td>\n",
       "      <td>355.8</td>\n",
       "      <td>314.209343</td>\n",
       "      <td>-272.618686</td>\n",
       "      <td>984.218686</td>\n",
       "    </tr>\n",
       "    <tr>\n",
       "      <th>1</th>\n",
       "      <td>2</td>\n",
       "      <td>255.2</td>\n",
       "      <td>112.566820</td>\n",
       "      <td>30.066361</td>\n",
       "      <td>480.333639</td>\n",
       "    </tr>\n",
       "    <tr>\n",
       "      <th>2</th>\n",
       "      <td>3</td>\n",
       "      <td>292.5</td>\n",
       "      <td>128.593459</td>\n",
       "      <td>35.313081</td>\n",
       "      <td>549.686919</td>\n",
       "    </tr>\n",
       "  </tbody>\n",
       "</table>\n",
       "</div>"
      ],
      "text/plain": [
       "   근속년수   mean         std       out_l       out_u\n",
       "0     1  355.8  314.209343 -272.618686  984.218686\n",
       "1     2  255.2  112.566820   30.066361  480.333639\n",
       "2     3  292.5  128.593459   35.313081  549.686919"
      ]
     },
     "execution_count": 17,
     "metadata": {},
     "output_type": "execute_result"
    }
   ],
   "source": [
    "df_agg = df.groupby(\"근속년수\")[\"연봉\"].agg([\"mean\", \"std\"]).reset_index()\n",
    "df_agg[\"out_l\"] = df_agg[\"mean\"] - 2 * df_agg[\"std\"] \n",
    "df_agg[\"out_u\"] = df_agg[\"mean\"] + 2 * df_agg[\"std\"] \n",
    "df_agg"
   ]
  },
  {
   "cell_type": "code",
   "execution_count": 20,
   "id": "f7a731d3",
   "metadata": {},
   "outputs": [
    {
     "data": {
      "text/html": [
       "<div>\n",
       "<style scoped>\n",
       "    .dataframe tbody tr th:only-of-type {\n",
       "        vertical-align: middle;\n",
       "    }\n",
       "\n",
       "    .dataframe tbody tr th {\n",
       "        vertical-align: top;\n",
       "    }\n",
       "\n",
       "    .dataframe thead th {\n",
       "        text-align: right;\n",
       "    }\n",
       "</style>\n",
       "<table border=\"1\" class=\"dataframe\">\n",
       "  <thead>\n",
       "    <tr style=\"text-align: right;\">\n",
       "      <th></th>\n",
       "      <th>근속년수</th>\n",
       "      <th>연봉</th>\n",
       "      <th>out_l</th>\n",
       "      <th>out_u</th>\n",
       "    </tr>\n",
       "  </thead>\n",
       "  <tbody>\n",
       "    <tr>\n",
       "      <th>0</th>\n",
       "      <td>1</td>\n",
       "      <td>1200</td>\n",
       "      <td>-272.618686</td>\n",
       "      <td>984.218686</td>\n",
       "    </tr>\n",
       "    <tr>\n",
       "      <th>1</th>\n",
       "      <td>1</td>\n",
       "      <td>198</td>\n",
       "      <td>-272.618686</td>\n",
       "      <td>984.218686</td>\n",
       "    </tr>\n",
       "    <tr>\n",
       "      <th>2</th>\n",
       "      <td>1</td>\n",
       "      <td>183</td>\n",
       "      <td>-272.618686</td>\n",
       "      <td>984.218686</td>\n",
       "    </tr>\n",
       "    <tr>\n",
       "      <th>3</th>\n",
       "      <td>1</td>\n",
       "      <td>157</td>\n",
       "      <td>-272.618686</td>\n",
       "      <td>984.218686</td>\n",
       "    </tr>\n",
       "    <tr>\n",
       "      <th>4</th>\n",
       "      <td>1</td>\n",
       "      <td>196</td>\n",
       "      <td>-272.618686</td>\n",
       "      <td>984.218686</td>\n",
       "    </tr>\n",
       "  </tbody>\n",
       "</table>\n",
       "</div>"
      ],
      "text/plain": [
       "   근속년수    연봉       out_l       out_u\n",
       "0     1  1200 -272.618686  984.218686\n",
       "1     1   198 -272.618686  984.218686\n",
       "2     1   183 -272.618686  984.218686\n",
       "3     1   157 -272.618686  984.218686\n",
       "4     1   196 -272.618686  984.218686"
      ]
     },
     "execution_count": 20,
     "metadata": {},
     "output_type": "execute_result"
    }
   ],
   "source": [
    "df_join = df.merge(df_agg.drop(columns = [\"mean\", \"std\"]), \n",
    "                   on = \"근속년수\")\n",
    "df_join.head()"
   ]
  },
  {
   "cell_type": "code",
   "execution_count": 21,
   "id": "23dbdc4a",
   "metadata": {},
   "outputs": [],
   "source": [
    "condi_1 = df_join[\"연봉\"] >= df_join[\"out_l\"]\n",
    "condi_2 = df_join[\"연봉\"] <= df_join[\"out_u\"]\n",
    "df_join_in = df_join.loc[condi_1 & condi_2, ]"
   ]
  },
  {
   "cell_type": "code",
   "execution_count": 22,
   "id": "b0c7aec7",
   "metadata": {},
   "outputs": [
    {
     "data": {
      "text/plain": [
       "(30, 28)"
      ]
     },
     "execution_count": 22,
     "metadata": {},
     "output_type": "execute_result"
    }
   ],
   "source": [
    "len(df_join), len(df_join_in)"
   ]
  }
 ],
 "metadata": {
  "kernelspec": {
   "display_name": "Python 3 (ipykernel)",
   "language": "python",
   "name": "python3"
  },
  "language_info": {
   "codemirror_mode": {
    "name": "ipython",
    "version": 3
   },
   "file_extension": ".py",
   "mimetype": "text/x-python",
   "name": "python",
   "nbconvert_exporter": "python",
   "pygments_lexer": "ipython3",
   "version": "3.9.12"
  }
 },
 "nbformat": 4,
 "nbformat_minor": 5
}
